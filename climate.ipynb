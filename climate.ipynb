{
 "cells": [
  {
   "cell_type": "markdown",
   "metadata": {},
   "source": [
    "# Climate Analysis and Exploration"
   ]
  },
  {
   "cell_type": "markdown",
   "metadata": {},
   "source": [
    "## Background \n",
    "\n",
    "A climate analysis and exploration of the precipitation and temperature from a variety of stations is done on Honolulu, HI. "
   ]
  },
  {
   "cell_type": "markdown",
   "metadata": {},
   "source": [
    "#### Import Python and SQL Alchemy Libraries"
   ]
  },
  {
   "cell_type": "code",
   "execution_count": 290,
   "metadata": {},
   "outputs": [],
   "source": [
    "#Python Libraries\n",
    "from matplotlib import style\n",
    "style.use('fivethirtyeight')\n",
    "import matplotlib.pyplot as plt\n",
    "import numpy as np\n",
    "import pandas as pd\n",
    "import datetime \n",
    "import time\n",
    "\n",
    "output_image = 'Images/Precipitation_Figure.png'\n",
    "output_image2 = 'Images/TempFreqHis.png'\n",
    "output_image3 = 'Images/TripAvgTemp.png'"
   ]
  },
  {
   "cell_type": "code",
   "execution_count": null,
   "metadata": {},
   "outputs": [],
   "source": [
    "# SQL Alchemy Libraries\n",
    "import sqlalchemy\n",
    "from sqlalchemy.ext.automap import automap_base\n",
    "from sqlalchemy.orm import Session\n",
    "from sqlalchemy import create_engine, func"
   ]
  },
  {
   "cell_type": "markdown",
   "metadata": {},
   "source": [
    "#### Create the engine from the database path "
   ]
  },
  {
   "cell_type": "code",
   "execution_count": null,
   "metadata": {},
   "outputs": [],
   "source": [
    "engine = create_engine(\"sqlite:///Resources/hawaii.sqlite\")"
   ]
  },
  {
   "cell_type": "markdown",
   "metadata": {},
   "source": [
    "#### Reflect an existing database into a new model"
   ]
  },
  {
   "cell_type": "code",
   "execution_count": null,
   "metadata": {},
   "outputs": [],
   "source": [
    "Base = automap_base()"
   ]
  },
  {
   "cell_type": "markdown",
   "metadata": {},
   "source": [
    "#### Reflect the table and create a session link"
   ]
  },
  {
   "cell_type": "code",
   "execution_count": null,
   "metadata": {},
   "outputs": [],
   "source": [
    "Base.prepare(engine, reflect=True)\n",
    "session = Session(engine)"
   ]
  },
  {
   "cell_type": "markdown",
   "metadata": {},
   "source": [
    "#### Viewing all of the classes that automap found"
   ]
  },
  {
   "cell_type": "code",
   "execution_count": null,
   "metadata": {},
   "outputs": [],
   "source": [
    "Base.classes.keys()"
   ]
  },
  {
   "cell_type": "markdown",
   "metadata": {},
   "source": [
    "#### Save references to each table"
   ]
  },
  {
   "cell_type": "code",
   "execution_count": null,
   "metadata": {},
   "outputs": [],
   "source": [
    "Station = Base.classes.station\n",
    "Measurement = Base.classes.measurement"
   ]
  },
  {
   "cell_type": "markdown",
   "metadata": {},
   "source": [
    "## Exploratory Climate Analysis"
   ]
  },
  {
   "cell_type": "markdown",
   "metadata": {},
   "source": [
    "### Precipitation Analysis"
   ]
  },
  {
   "cell_type": "markdown",
   "metadata": {},
   "source": [
    "### Design a query to retrieve the last 12 months of precipitation data and plot the results"
   ]
  },
  {
   "cell_type": "markdown",
   "metadata": {},
   "source": [
    "#### Order the query by descending order to find the most recent date"
   ]
  },
  {
   "cell_type": "code",
   "execution_count": null,
   "metadata": {},
   "outputs": [],
   "source": [
    "Recent_Date = session.query(Measurement.date).order_by(Measurement.date.desc()).limit(10).all()\n",
    "Last_Date = Recent_Date[0][0]"
   ]
  },
  {
   "cell_type": "markdown",
   "metadata": {},
   "source": [
    "#### Find the value 12 months before the most recent date to get the range of interest"
   ]
  },
  {
   "cell_type": "code",
   "execution_count": null,
   "metadata": {},
   "outputs": [],
   "source": [
    "Last_Unix = time.mktime(datetime.datetime.strptime(Last_Date,\"%Y-%m-%d\").timetuple())\n",
    "First_Unix = round(Last_Unix - 31500000)\n",
    "First_Date = datetime.datetime.fromtimestamp(First_Unix).strftime('%Y-%m-%d')"
   ]
  },
  {
   "cell_type": "markdown",
   "metadata": {},
   "source": [
    "#### Filter the data to show only dates after 08-23-2016 and convert to a pandas dataframe"
   ]
  },
  {
   "cell_type": "code",
   "execution_count": null,
   "metadata": {},
   "outputs": [],
   "source": [
    "Twelve_Month_Query = pd.DataFrame(session.query(Measurement.date, Measurement.prcp).filter(Measurement.date >= First_Date).all(),\n",
    "                                 columns = ['Date','Precipitation'])"
   ]
  },
  {
   "cell_type": "markdown",
   "metadata": {},
   "source": [
    "#### Set the index to the date column and sort the dataframe by date"
   ]
  },
  {
   "cell_type": "code",
   "execution_count": null,
   "metadata": {},
   "outputs": [],
   "source": [
    "Twelve_Month_Query.set_index('Date', inplace=True)\n",
    "Twelve_Month_Query_df = Twelve_Month_Query.sort_values(by='Date',ascending=True)"
   ]
  },
  {
   "cell_type": "markdown",
   "metadata": {},
   "source": [
    "#### Use Pandas Plotting with Matplotlib to plot the data and print a summary of the dataframe"
   ]
  },
  {
   "cell_type": "code",
   "execution_count": 288,
   "metadata": {},
   "outputs": [
    {
     "data": {
      "image/png": "[encoded data removed]",
      "text/plain": [
       "<Figure size 432x288 with 1 Axes>"
      ]
     },
     "metadata": {},
     "output_type": "display_data"
    }
   ],
   "source": [
    "Twelve_Month_Query_df.plot()\n",
    "plt.title('Precipitation Over a Period of 12 Months')\n",
    "plt.xlabel('Date')\n",
    "plt.ylabel('Inches')\n",
    "plt.savefig(output_image)\n",
    "plt.tight_layout()\n",
    "plt.show()"
   ]
  },
  {
   "cell_type": "code",
   "execution_count": null,
   "metadata": {},
   "outputs": [],
   "source": [
    "Twelve_Month_Query_df.describe()"
   ]
  },
  {
   "cell_type": "markdown",
   "metadata": {},
   "source": [
    "### Station Analysis"
   ]
  },
  {
   "cell_type": "markdown",
   "metadata": {},
   "source": [
    "### Design a query to show how many stations are available in this dataset?"
   ]
  },
  {
   "cell_type": "code",
   "execution_count": 174,
   "metadata": {},
   "outputs": [
    {
     "name": "stdout",
     "output_type": "stream",
     "text": [
      "The number of stations are 9\n"
     ]
    }
   ],
   "source": [
    "Station_Count = session.query(Measurement.station).group_by(Measurement.station).count()\n",
    "print(f\"The number of stations are {Station_Count}\")"
   ]
  },
  {
   "cell_type": "markdown",
   "metadata": {},
   "source": [
    "### What are the most active stations?"
   ]
  },
  {
   "cell_type": "markdown",
   "metadata": {},
   "source": [
    "#### List the stations and the counts in descending order."
   ]
  },
  {
   "cell_type": "code",
   "execution_count": 200,
   "metadata": {},
   "outputs": [
    {
     "name": "stdout",
     "output_type": "stream",
     "text": [
      "The most active stations are\n"
     ]
    },
    {
     "data": {
      "text/plain": [
       "[[2772, ('USC00519281')],\n",
       " [2724, ('USC00519397')],\n",
       " [2709, ('USC00513117')],\n",
       " [2669, ('USC00519523')],\n",
       " [2612, ('USC00516128')],\n",
       " [2202, ('USC00514830')],\n",
       " [1979, ('USC00511918')],\n",
       " [1372, ('USC00517948')],\n",
       " [511, ('USC00518838')]]"
      ]
     },
     "execution_count": 200,
     "metadata": {},
     "output_type": "execute_result"
    }
   ],
   "source": [
    "Station_list = session.query(Measurement.station).group_by(Measurement.station).all()\n",
    "stations = [] \n",
    "station_count = []\n",
    "\n",
    "for i in Station_list:\n",
    "    i_dict = i._asdict()  # sqlalchemy.util._collections.result , has a method called _asdict()\n",
    "    stations.append(i_dict)\n",
    "    \n",
    "for index in range(len(stations)): \n",
    "    station_count.append([session.query(Measurement).filter(Measurement.station == stations[index]['station']).count(), \n",
    "                         Station_list[index]])\n",
    "\n",
    "Station_Desc = sorted(station_count , reverse = True)\n",
    "\n",
    "print('The most active stations are')\n",
    "Station_Desc"
   ]
  },
  {
   "cell_type": "markdown",
   "metadata": {},
   "source": [
    "### Using the station id from the previous query, calculate the lowest temperature recorded,  highest temperature recorded, and average temperature of the most active station?"
   ]
  },
  {
   "cell_type": "code",
   "execution_count": 221,
   "metadata": {},
   "outputs": [],
   "source": [
    "active_station = Station_Desc[0][1] \n",
    "active_dict = active_station._asdict()\n",
    "func_active_station = session.query(func.min(Measurement.tobs),func.max(Measurement.tobs),\n",
    "                                    func.avg(Measurement.tobs).filter(Measurement.station == active_dict['station'])).all() "
   ]
  },
  {
   "cell_type": "code",
   "execution_count": 227,
   "metadata": {},
   "outputs": [
    {
     "name": "stdout",
     "output_type": "stream",
     "text": [
      "The lowest temperature recorded for the most active station is 53.0\n"
     ]
    }
   ],
   "source": [
    "print(f'The lowest temperature recorded for the most active station is {func_active_station[0][0]}')"
   ]
  },
  {
   "cell_type": "code",
   "execution_count": 228,
   "metadata": {},
   "outputs": [
    {
     "name": "stdout",
     "output_type": "stream",
     "text": [
      "The highest temperature recorded for the most active station is 87.0\n"
     ]
    }
   ],
   "source": [
    "print(f'The highest temperature recorded for the most active station is {func_active_station[0][1]}')"
   ]
  },
  {
   "cell_type": "code",
   "execution_count": 230,
   "metadata": {},
   "outputs": [
    {
     "name": "stdout",
     "output_type": "stream",
     "text": [
      "The average temperature recorded for the most active station is 71.66\n"
     ]
    }
   ],
   "source": [
    "print(f'The average temperature recorded for the most active station is {round(func_active_station[0][2],2)}')"
   ]
  },
  {
   "cell_type": "markdown",
   "metadata": {},
   "source": [
    "### Design a query to retrieve the last 12 months of temperature observation data (TOBS)."
   ]
  },
  {
   "cell_type": "markdown",
   "metadata": {},
   "source": [
    "#### Filter by the station with the highest number of observations."
   ]
  },
  {
   "cell_type": "code",
   "execution_count": 233,
   "metadata": {},
   "outputs": [],
   "source": [
    "Temp_Station = session.query(Measurement.station, \n",
    "                             func.count(Measurement.tobs)).group_by(Measurement.station).order_by(func.count(Measurement.station).desc()).first()\n",
    "Max_Temp_Station= Temp_Station[0]"
   ]
  },
  {
   "cell_type": "markdown",
   "metadata": {},
   "source": [
    "#### Query the last 12 months of temperature observation data for this station and plot the results as a histogram"
   ]
  },
  {
   "cell_type": "code",
   "execution_count": 237,
   "metadata": {},
   "outputs": [],
   "source": [
    "Twelve_Temp = session.query(Measurement.date,Measurement.tobs).filter(Measurement.date >= First_Date).filter(Measurement.station == Max_Temp_Station).all()\n",
    "Twelve_Temp_df = pd.DataFrame(Twelve_Temp,columns = ['Date','Temperature'])                "
   ]
  },
  {
   "cell_type": "code",
   "execution_count": 291,
   "metadata": {},
   "outputs": [
    {
     "data": {
      "image/png": "[encoded data removed]",
      "text/plain": [
       "<Figure size 432x288 with 1 Axes>"
      ]
     },
     "metadata": {},
     "output_type": "display_data"
    }
   ],
   "source": [
    "Twelve_Temp_df.plot.hist(bins=12) \n",
    "plt.title(\"Temperature vs. Frequency Histogram\")\n",
    "plt.xlabel('Temperature (F)')\n",
    "plt.savefig(output_image2)\n",
    "plt.tight_layout()\n",
    "plt.show()"
   ]
  },
  {
   "cell_type": "markdown",
   "metadata": {},
   "source": [
    "## Bonus Challenge Assignment "
   ]
  },
  {
   "cell_type": "code",
   "execution_count": 243,
   "metadata": {},
   "outputs": [],
   "source": [
    " # This function called `calc_temps` will accept start date and end date in the format '%Y-%m-%d' \n",
    "# and return the minimum, average, and maximum temperatures for that range of dates\n",
    "def calc_temps(start_date, end_date):\n",
    "    \"\"\"TMIN, TAVG, and TMAX for a list of dates.\n",
    "    \n",
    "    Args:\n",
    "        start_date (string): A date string in the format %Y-%m-%d\n",
    "        end_date (string): A date string in the format %Y-%m-%d\n",
    "        \n",
    "    Returns:\n",
    "        TMIN, TAVE, and TMAX\n",
    "    \"\"\"\n",
    "    \n",
    "    return session.query(func.min(Measurement.tobs), func.avg(Measurement.tobs), func.max(Measurement.tobs)).\\\n",
    "        filter(Measurement.date >= start_date).filter(Measurement.date <= end_date).all()\n"
   ]
  },
  {
   "cell_type": "code",
   "execution_count": 244,
   "metadata": {},
   "outputs": [],
   "source": [
    "Start_Date_Vac = \"2015-06-10\"\n",
    "End_Date_Vac = \"2015-07-15\"\n",
    "\n",
    "Start_Date_Vac_Unix = time.mktime(datetime.datetime.strptime(Start_Date_Vac,\"%Y-%m-%d\").timetuple())\n",
    "Start_Date_Unix = round(Start_Date_Vac_Unix - 31500000)\n",
    "First_Date_Vac = datetime.datetime.fromtimestamp(Start_Date_Unix).strftime('%Y-%m-%d')\n",
    "\n",
    "End_Date_Vac_Unix = time.mktime(datetime.datetime.strptime(End_Date_Vac,\"%Y-%m-%d\").timetuple())\n",
    "End_Date_Unix = round(End_Date_Vac_Unix - 31500000)\n",
    "Last_Date_Vac = datetime.datetime.fromtimestamp(End_Date_Unix).strftime('%Y-%m-%d')"
   ]
  },
  {
   "cell_type": "code",
   "execution_count": 252,
   "metadata": {},
   "outputs": [
    {
     "name": "stdout",
     "output_type": "stream",
     "text": [
      "[(68.0, 75.4618320610687, 84.0)]\n"
     ]
    }
   ],
   "source": [
    "Vac_Averages = calc_temps(First_Date_Vac,Last_Date_Vac)\n",
    "Min_temp = Vac_Averages[0][0]\n",
    "Average_temp = Vac_Averages[0][1]\n",
    "Max_temp = Vac_Averages[0][2]\n",
    "print(Vac_Averages)"
   ]
  },
  {
   "cell_type": "code",
   "execution_count": 297,
   "metadata": {},
   "outputs": [
    {
     "data": {
      "image/png": "[encoded data removed]",
      "text/plain": [
       "<Figure size 432x288 with 1 Axes>"
      ]
     },
     "metadata": {},
     "output_type": "display_data"
    }
   ],
   "source": [
    "yerror = [Min_temp,Max_temp]\n",
    "bar_chart = plt.bar(1 , Average_temp, color= 'lightsalmon',\n",
    "                   align='center',tick_label = 'Average temp',\n",
    "                   yerr = yerror[1]-yerror[0])\n",
    "plt.title('Trip Average Temperature From Prior Year')\n",
    "plt.savefig(output_image2)\n",
    "# fig.set_size_inches(2.5, 5)\n",
    "# fig.tight_layout()\n",
    "plt.show()"
   ]
  },
  {
   "cell_type": "code",
   "execution_count": null,
   "metadata": {},
   "outputs": [],
   "source": []
  },
  {
   "cell_type": "code",
   "execution_count": null,
   "metadata": {},
   "outputs": [],
   "source": []
  }
 ],
 "metadata": {
  "kernelspec": {
   "display_name": "Python 3",
   "language": "python",
   "name": "python3"
  },
  "language_info": {
   "codemirror_mode": {
    "name": "ipython",
    "version": 3
   },
   "file_extension": ".py",
   "mimetype": "text/x-python",
   "name": "python",
   "nbconvert_exporter": "python",
   "pygments_lexer": "ipython3",
   "version": "3.7.4"
  }
 },
 "nbformat": 4,
 "nbformat_minor": 2
}
