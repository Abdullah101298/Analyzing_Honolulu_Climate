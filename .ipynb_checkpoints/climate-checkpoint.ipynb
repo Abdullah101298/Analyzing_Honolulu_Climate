{
 "cells": [
  {
   "cell_type": "markdown",
   "metadata": {},
   "source": [
    "# Climate Analysis and Exploration"
   ]
  },
  {
   "cell_type": "markdown",
   "metadata": {},
   "source": [
    "## Background \n",
    "\n",
    "A climate analysis and exploration of the precipitation and temperature from a variety of stations is done on Honolulu, HI. "
   ]
  },
  {
   "cell_type": "markdown",
   "metadata": {},
   "source": [
    "#### Import Python and SQL Alchemy Libraries"
   ]
  },
  {
   "cell_type": "code",
   "execution_count": 105,
   "metadata": {},
   "outputs": [],
   "source": [
    "#Python Libraries\n",
    "from matplotlib import style\n",
    "style.use('fivethirtyeight')\n",
    "import matplotlib.pyplot as plt\n",
    "import numpy as np\n",
    "import pandas as pd\n",
    "import datetime \n",
    "import time\n",
    "from scipy import stats\n",
    "\n",
    "output_image = 'Images/Precipitation_Figure.png'\n",
    "output_image2 = 'Images/TempFreqHis.png'\n",
    "output_image3 = 'Images/TripAvgTemp.png'"
   ]
  },
  {
   "cell_type": "code",
   "execution_count": 2,
   "metadata": {},
   "outputs": [],
   "source": [
    "# SQL Alchemy Libraries\n",
    "import sqlalchemy\n",
    "from sqlalchemy.ext.automap import automap_base\n",
    "from sqlalchemy.orm import Session\n",
    "from sqlalchemy import create_engine, func"
   ]
  },
  {
   "cell_type": "markdown",
   "metadata": {},
   "source": [
    "#### Create the engine from the database path "
   ]
  },
  {
   "cell_type": "code",
   "execution_count": 3,
   "metadata": {},
   "outputs": [],
   "source": [
    "engine = create_engine(\"sqlite:///Resources/hawaii.sqlite\")"
   ]
  },
  {
   "cell_type": "markdown",
   "metadata": {},
   "source": [
    "#### Reflect an existing database into a new model"
   ]
  },
  {
   "cell_type": "code",
   "execution_count": 4,
   "metadata": {},
   "outputs": [],
   "source": [
    "Base = automap_base()"
   ]
  },
  {
   "cell_type": "markdown",
   "metadata": {},
   "source": [
    "#### Reflect the table and create a session link"
   ]
  },
  {
   "cell_type": "code",
   "execution_count": 5,
   "metadata": {},
   "outputs": [],
   "source": [
    "Base.prepare(engine, reflect=True)\n",
    "session = Session(engine)"
   ]
  },
  {
   "cell_type": "markdown",
   "metadata": {},
   "source": [
    "#### Viewing all of the classes that automap found"
   ]
  },
  {
   "cell_type": "code",
   "execution_count": 6,
   "metadata": {},
   "outputs": [
    {
     "data": {
      "text/plain": [
       "['measurement', 'station']"
      ]
     },
     "execution_count": 6,
     "metadata": {},
     "output_type": "execute_result"
    }
   ],
   "source": [
    "Base.classes.keys()"
   ]
  },
  {
   "cell_type": "markdown",
   "metadata": {},
   "source": [
    "#### Save references to each table"
   ]
  },
  {
   "cell_type": "code",
   "execution_count": 7,
   "metadata": {},
   "outputs": [],
   "source": [
    "Station = Base.classes.station\n",
    "Measurement = Base.classes.measurement"
   ]
  },
  {
   "cell_type": "markdown",
   "metadata": {},
   "source": [
    "## Exploratory Climate Analysis"
   ]
  },
  {
   "cell_type": "markdown",
   "metadata": {},
   "source": [
    "### Precipitation Analysis"
   ]
  },
  {
   "cell_type": "markdown",
   "metadata": {},
   "source": [
    "### Design a query to retrieve the last 12 months of precipitation data and plot the results"
   ]
  },
  {
   "cell_type": "markdown",
   "metadata": {},
   "source": [
    "#### Order the query by descending order to find the most recent date"
   ]
  },
  {
   "cell_type": "code",
   "execution_count": 8,
   "metadata": {},
   "outputs": [],
   "source": [
    "Recent_Date = session.query(Measurement.date).order_by(Measurement.date.desc()).limit(10).all()\n",
    "Last_Date = Recent_Date[0][0]"
   ]
  },
  {
   "cell_type": "markdown",
   "metadata": {},
   "source": [
    "#### Find the value 12 months before the most recent date to get the range of interest"
   ]
  },
  {
   "cell_type": "code",
   "execution_count": 9,
   "metadata": {},
   "outputs": [],
   "source": [
    "Last_Unix = time.mktime(datetime.datetime.strptime(Last_Date,\"%Y-%m-%d\").timetuple())\n",
    "First_Unix = round(Last_Unix - 31500000)\n",
    "First_Date = datetime.datetime.fromtimestamp(First_Unix).strftime('%Y-%m-%d')"
   ]
  },
  {
   "cell_type": "markdown",
   "metadata": {},
   "source": [
    "#### Filter the data to show only dates after 08-23-2016 and convert to a pandas dataframe"
   ]
  },
  {
   "cell_type": "code",
   "execution_count": 10,
   "metadata": {},
   "outputs": [],
   "source": [
    "Twelve_Month_Query = pd.DataFrame(session.query(Measurement.date, Measurement.prcp).filter(Measurement.date >= First_Date).all(),\n",
    "                                 columns = ['Date','Precipitation'])"
   ]
  },
  {
   "cell_type": "markdown",
   "metadata": {},
   "source": [
    "#### Set the index to the date column and sort the dataframe by date"
   ]
  },
  {
   "cell_type": "code",
   "execution_count": 11,
   "metadata": {},
   "outputs": [],
   "source": [
    "Twelve_Month_Query.set_index('Date', inplace=True)\n",
    "Twelve_Month_Query_df = Twelve_Month_Query.sort_values(by='Date',ascending=True)"
   ]
  },
  {
   "cell_type": "markdown",
   "metadata": {},
   "source": [
    "#### Use Pandas Plotting with Matplotlib to plot the data and print a summary of the dataframe"
   ]
  },
  {
   "cell_type": "code",
   "execution_count": 12,
   "metadata": {},
   "outputs": [
    {
     "data": {
      "image/png": "[encoded data removed]",
      "text/plain": [
       "<Figure size 432x288 with 1 Axes>"
      ]
     },
     "metadata": {
      "needs_background": "light"
     },
     "output_type": "display_data"
    }
   ],
   "source": [
    "Twelve_Month_Query_df.plot()\n",
    "plt.title('Precipitation Over a Period of 12 Months')\n",
    "plt.xlabel('Date')\n",
    "plt.ylabel('Inches')\n",
    "plt.savefig(output_image)\n",
    "plt.tight_layout()\n",
    "plt.show()"
   ]
  },
  {
   "cell_type": "code",
   "execution_count": 13,
   "metadata": {},
   "outputs": [
    {
     "data": {
      "text/html": [
       "<div>\n",
       "<style scoped>\n",
       "    .dataframe tbody tr th:only-of-type {\n",
       "        vertical-align: middle;\n",
       "    }\n",
       "\n",
       "    .dataframe tbody tr th {\n",
       "        vertical-align: top;\n",
       "    }\n",
       "\n",
       "    .dataframe thead th {\n",
       "        text-align: right;\n",
       "    }\n",
       "</style>\n",
       "<table border=\"1\" class=\"dataframe\">\n",
       "  <thead>\n",
       "    <tr style=\"text-align: right;\">\n",
       "      <th></th>\n",
       "      <th>Precipitation</th>\n",
       "    </tr>\n",
       "  </thead>\n",
       "  <tbody>\n",
       "    <tr>\n",
       "      <td>count</td>\n",
       "      <td>2021.000000</td>\n",
       "    </tr>\n",
       "    <tr>\n",
       "      <td>mean</td>\n",
       "      <td>0.177279</td>\n",
       "    </tr>\n",
       "    <tr>\n",
       "      <td>std</td>\n",
       "      <td>0.461190</td>\n",
       "    </tr>\n",
       "    <tr>\n",
       "      <td>min</td>\n",
       "      <td>0.000000</td>\n",
       "    </tr>\n",
       "    <tr>\n",
       "      <td>25%</td>\n",
       "      <td>0.000000</td>\n",
       "    </tr>\n",
       "    <tr>\n",
       "      <td>50%</td>\n",
       "      <td>0.020000</td>\n",
       "    </tr>\n",
       "    <tr>\n",
       "      <td>75%</td>\n",
       "      <td>0.130000</td>\n",
       "    </tr>\n",
       "    <tr>\n",
       "      <td>max</td>\n",
       "      <td>6.700000</td>\n",
       "    </tr>\n",
       "  </tbody>\n",
       "</table>\n",
       "</div>"
      ],
      "text/plain": [
       "       Precipitation\n",
       "count    2021.000000\n",
       "mean        0.177279\n",
       "std         0.461190\n",
       "min         0.000000\n",
       "25%         0.000000\n",
       "50%         0.020000\n",
       "75%         0.130000\n",
       "max         6.700000"
      ]
     },
     "execution_count": 13,
     "metadata": {},
     "output_type": "execute_result"
    }
   ],
   "source": [
    "Twelve_Month_Query_df.describe()"
   ]
  },
  {
   "cell_type": "markdown",
   "metadata": {},
   "source": [
    "### Station Analysis"
   ]
  },
  {
   "cell_type": "markdown",
   "metadata": {},
   "source": [
    "### Design a query to show how many stations are available in this dataset?"
   ]
  },
  {
   "cell_type": "code",
   "execution_count": 14,
   "metadata": {},
   "outputs": [
    {
     "name": "stdout",
     "output_type": "stream",
     "text": [
      "The number of stations are 9\n"
     ]
    }
   ],
   "source": [
    "Station_Count = session.query(Measurement.station).group_by(Measurement.station).count()\n",
    "print(f\"The number of stations are {Station_Count}\")"
   ]
  },
  {
   "cell_type": "markdown",
   "metadata": {},
   "source": [
    "### What are the most active stations?"
   ]
  },
  {
   "cell_type": "markdown",
   "metadata": {},
   "source": [
    "#### List the stations and the counts in descending order."
   ]
  },
  {
   "cell_type": "code",
   "execution_count": 15,
   "metadata": {},
   "outputs": [
    {
     "name": "stdout",
     "output_type": "stream",
     "text": [
      "The most active stations are\n"
     ]
    },
    {
     "data": {
      "text/plain": [
       "[[2772, ('USC00519281')],\n",
       " [2724, ('USC00519397')],\n",
       " [2709, ('USC00513117')],\n",
       " [2669, ('USC00519523')],\n",
       " [2612, ('USC00516128')],\n",
       " [2202, ('USC00514830')],\n",
       " [1979, ('USC00511918')],\n",
       " [1372, ('USC00517948')],\n",
       " [511, ('USC00518838')]]"
      ]
     },
     "execution_count": 15,
     "metadata": {},
     "output_type": "execute_result"
    }
   ],
   "source": [
    "Station_list = session.query(Measurement.station).group_by(Measurement.station).all()\n",
    "stations = [] \n",
    "station_count = []\n",
    "\n",
    "for i in Station_list:\n",
    "    i_dict = i._asdict()  # sqlalchemy.util._collections.result , has a method called _asdict()\n",
    "    stations.append(i_dict)\n",
    "    \n",
    "for index in range(len(stations)): \n",
    "    station_count.append([session.query(Measurement).filter(Measurement.station == stations[index]['station']).count(), \n",
    "                         Station_list[index]])\n",
    "\n",
    "Station_Desc = sorted(station_count , reverse = True)\n",
    "\n",
    "print('The most active stations are')\n",
    "Station_Desc"
   ]
  },
  {
   "cell_type": "markdown",
   "metadata": {},
   "source": [
    "### Using the station id from the previous query, calculate the lowest temperature recorded,  highest temperature recorded, and average temperature of the most active station?"
   ]
  },
  {
   "cell_type": "code",
   "execution_count": 16,
   "metadata": {},
   "outputs": [],
   "source": [
    "active_station = Station_Desc[0][1] \n",
    "active_dict = active_station._asdict()\n",
    "func_active_station = session.query(func.min(Measurement.tobs),func.max(Measurement.tobs),\n",
    "                                    func.avg(Measurement.tobs).filter(Measurement.station == active_dict['station'])).all() "
   ]
  },
  {
   "cell_type": "code",
   "execution_count": 17,
   "metadata": {},
   "outputs": [
    {
     "name": "stdout",
     "output_type": "stream",
     "text": [
      "The lowest temperature recorded for the most active station is 53.0\n"
     ]
    }
   ],
   "source": [
    "print(f'The lowest temperature recorded for the most active station is {func_active_station[0][0]}')"
   ]
  },
  {
   "cell_type": "code",
   "execution_count": 18,
   "metadata": {},
   "outputs": [
    {
     "name": "stdout",
     "output_type": "stream",
     "text": [
      "The highest temperature recorded for the most active station is 87.0\n"
     ]
    }
   ],
   "source": [
    "print(f'The highest temperature recorded for the most active station is {func_active_station[0][1]}')"
   ]
  },
  {
   "cell_type": "code",
   "execution_count": 19,
   "metadata": {},
   "outputs": [
    {
     "name": "stdout",
     "output_type": "stream",
     "text": [
      "The average temperature recorded for the most active station is 71.66\n"
     ]
    }
   ],
   "source": [
    "print(f'The average temperature recorded for the most active station is {round(func_active_station[0][2],2)}')"
   ]
  },
  {
   "cell_type": "markdown",
   "metadata": {},
   "source": [
    "### Design a query to retrieve the last 12 months of temperature observation data (TOBS)."
   ]
  },
  {
   "cell_type": "markdown",
   "metadata": {},
   "source": [
    "#### Filter by the station with the highest number of observations."
   ]
  },
  {
   "cell_type": "code",
   "execution_count": 20,
   "metadata": {},
   "outputs": [],
   "source": [
    "Temp_Station = session.query(Measurement.station, \n",
    "                             func.count(Measurement.tobs)).group_by(Measurement.station).order_by(func.count(Measurement.station).desc()).first()\n",
    "Max_Temp_Station= Temp_Station[0]"
   ]
  },
  {
   "cell_type": "markdown",
   "metadata": {},
   "source": [
    "#### Query the last 12 months of temperature observation data for this station and plot the results as a histogram"
   ]
  },
  {
   "cell_type": "code",
   "execution_count": 21,
   "metadata": {},
   "outputs": [],
   "source": [
    "Twelve_Temp = session.query(Measurement.date,Measurement.tobs).filter(Measurement.date >= First_Date).filter(Measurement.station == Max_Temp_Station).all()\n",
    "Twelve_Temp_df = pd.DataFrame(Twelve_Temp,columns = ['Date','Temperature'])                "
   ]
  },
  {
   "cell_type": "code",
   "execution_count": 22,
   "metadata": {},
   "outputs": [
    {
     "data": {
      "image/png": "[encoded data removed]",
      "text/plain": [
       "<Figure size 432x288 with 1 Axes>"
      ]
     },
     "metadata": {
      "needs_background": "light"
     },
     "output_type": "display_data"
    }
   ],
   "source": [
    "Twelve_Temp_df.plot.hist(bins=12) \n",
    "plt.title(\"Temperature vs. Frequency Histogram\")\n",
    "plt.xlabel('Temperature (F)')\n",
    "plt.savefig(output_image2)\n",
    "plt.tight_layout()\n",
    "plt.show()"
   ]
  },
  {
   "cell_type": "markdown",
   "metadata": {},
   "source": [
    "## Bonus Challenge Assignment "
   ]
  },
  {
   "cell_type": "markdown",
   "metadata": {},
   "source": [
    "### Temperature Analysis I"
   ]
  },
  {
   "cell_type": "code",
   "execution_count": 96,
   "metadata": {},
   "outputs": [],
   "source": [
    "Meas_Df = pd.read_csv('Resources/hawaii_measurements.csv')\n",
    "Meas_Df_june = Meas_Df[Meas_Df['date'].str.contains(\"-06-\")]\n",
    "Meas_Df_dec = Meas_Df[Meas_Df['date'].str.contains(\"-12-\")]"
   ]
  },
  {
   "cell_type": "code",
   "execution_count": 97,
   "metadata": {},
   "outputs": [
    {
     "name": "stdout",
     "output_type": "stream",
     "text": [
      "The average temperature in June across all stations is 75\n",
      "\n",
      "The average temperature in December across all stations is 71\n"
     ]
    }
   ],
   "source": [
    "Avg_june = Meas_Df_june['tobs'].mean()\n",
    "Avg_dec = Meas_Df_dec['tobs'].mean()\n",
    "print(f'The average temperature in June across all stations is {round(Avg_june)}')\n",
    "print('')\n",
    "print(f'The average temperature in December across all stations is {round(Avg_dec)}')"
   ]
  },
  {
   "cell_type": "markdown",
   "metadata": {},
   "source": [
    "#### T-test \n",
    "\n",
    "A unpaired t test was used because we are comparing the different data over 2 different times. The data was found to be statistically significant."
   ]
  },
  {
   "cell_type": "code",
   "execution_count": 110,
   "metadata": {},
   "outputs": [
    {
     "data": {
      "text/plain": [
       "Ttest_indResult(statistic=31.355036920962423, pvalue=4.193529835915755e-187)"
      ]
     },
     "execution_count": 110,
     "metadata": {},
     "output_type": "execute_result"
    }
   ],
   "source": [
    "stats.ttest_ind(Meas_Df_june['tobs'], Meas_Df_dec['tobs'],equal_var = False)"
   ]
  },
  {
   "cell_type": "markdown",
   "metadata": {},
   "source": [
    "### Temperature Analysis II"
   ]
  },
  {
   "cell_type": "code",
   "execution_count": 23,
   "metadata": {},
   "outputs": [],
   "source": [
    " # This function called `calc_temps` will accept start date and end date in the format '%Y-%m-%d' \n",
    "# and return the minimum, average, and maximum temperatures for that range of dates\n",
    "def calc_temps(start_date, end_date):\n",
    "    \"\"\"TMIN, TAVG, and TMAX for a list of dates.\n",
    "    \n",
    "    Args:\n",
    "        start_date (string): A date string in the format %Y-%m-%d\n",
    "        end_date (string): A date string in the format %Y-%m-%d\n",
    "        \n",
    "    Returns:\n",
    "        TMIN, TAVE, and TMAX\n",
    "    \"\"\"\n",
    "    \n",
    "    return session.query(func.min(Measurement.tobs), func.avg(Measurement.tobs), func.max(Measurement.tobs)).\\\n",
    "        filter(Measurement.date >= start_date).filter(Measurement.date <= end_date).all()\n"
   ]
  },
  {
   "cell_type": "code",
   "execution_count": 24,
   "metadata": {},
   "outputs": [],
   "source": [
    "Start_Date_Vac = \"2015-06-10\"\n",
    "End_Date_Vac = \"2015-07-15\"\n",
    "\n",
    "Start_Date_Vac_Unix = time.mktime(datetime.datetime.strptime(Start_Date_Vac,\"%Y-%m-%d\").timetuple())\n",
    "Start_Date_Unix = round(Start_Date_Vac_Unix - 31500000)\n",
    "First_Date_Vac = datetime.datetime.fromtimestamp(Start_Date_Unix).strftime('%Y-%m-%d')\n",
    "\n",
    "End_Date_Vac_Unix = time.mktime(datetime.datetime.strptime(End_Date_Vac,\"%Y-%m-%d\").timetuple())\n",
    "End_Date_Unix = round(End_Date_Vac_Unix - 31500000)\n",
    "Last_Date_Vac = datetime.datetime.fromtimestamp(End_Date_Unix).strftime('%Y-%m-%d')"
   ]
  },
  {
   "cell_type": "code",
   "execution_count": 25,
   "metadata": {},
   "outputs": [
    {
     "name": "stdout",
     "output_type": "stream",
     "text": [
      "[(68.0, 75.4618320610687, 84.0)]\n"
     ]
    }
   ],
   "source": [
    "Vac_Averages = calc_temps(First_Date_Vac,Last_Date_Vac)\n",
    "Min_temp = Vac_Averages[0][0]\n",
    "Average_temp = Vac_Averages[0][1]\n",
    "Max_temp = Vac_Averages[0][2]\n",
    "print(Vac_Averages)"
   ]
  },
  {
   "cell_type": "code",
   "execution_count": 28,
   "metadata": {},
   "outputs": [
    {
     "data": {
      "image/png": "[encoded data removed]",
      "text/plain": [
       "<Figure size 180x360 with 1 Axes>"
      ]
     },
     "metadata": {
      "needs_background": "light"
     },
     "output_type": "display_data"
    }
   ],
   "source": [
    "yerror = [Min_temp,Max_temp]\n",
    "fig, ax = plt.subplots()\n",
    "bar_chart = plt.bar(1 , Average_temp, color= 'lightsalmon',\n",
    "                   align='center',tick_label = 'Average temp',\n",
    "                   yerr = yerror[1]-yerror[0])\n",
    "ax.set_title('Trip Average Temperature From Prior Year')\n",
    "plt.savefig(output_image3)\n",
    "fig.set_size_inches(2.5, 5)\n",
    "plt.show()"
   ]
  },
  {
   "cell_type": "code",
   "execution_count": null,
   "metadata": {},
   "outputs": [],
   "source": []
  },
  {
   "cell_type": "code",
   "execution_count": null,
   "metadata": {},
   "outputs": [],
   "source": []
  }
 ],
 "metadata": {
  "kernelspec": {
   "display_name": "Python 3",
   "language": "python",
   "name": "python3"
  },
  "language_info": {
   "codemirror_mode": {
    "name": "ipython",
    "version": 3
   },
   "file_extension": ".py",
   "mimetype": "text/x-python",
   "name": "python",
   "nbconvert_exporter": "python",
   "pygments_lexer": "ipython3",
   "version": "3.7.4"
  }
 },
 "nbformat": 4,
 "nbformat_minor": 2
}
