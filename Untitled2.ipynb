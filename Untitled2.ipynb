{
 "cells": [
  {
   "cell_type": "markdown",
   "metadata": {},
   "source": [
    "#### Import Python and SQL Alchemy Libraries"
   ]
  },
  {
   "cell_type": "code",
   "execution_count": 62,
   "metadata": {},
   "outputs": [],
   "source": [
    "#Python Libraries\n",
    "from matplotlib import style\n",
    "style.use('fivethirtyeight')\n",
    "import matplotlib.pyplot as plt\n",
    "import numpy as np\n",
    "import pandas as pd\n",
    "import datetime as dt"
   ]
  },
  {
   "cell_type": "code",
   "execution_count": 63,
   "metadata": {},
   "outputs": [],
   "source": [
    "# SQL Alchemy Libraries\n",
    "import sqlalchemy\n",
    "from sqlalchemy.ext.automap import automap_base\n",
    "from sqlalchemy.orm import Session\n",
    "from sqlalchemy import create_engine, func"
   ]
  },
  {
   "cell_type": "markdown",
   "metadata": {},
   "source": [
    "#### Create the engine from the database path "
   ]
  },
  {
   "cell_type": "code",
   "execution_count": 64,
   "metadata": {},
   "outputs": [],
   "source": [
    "engine = create_engine(\"sqlite:///Resources/hawaii.sqlite\")"
   ]
  },
  {
   "cell_type": "markdown",
   "metadata": {},
   "source": [
    "#### Reflect an existing database into a new model"
   ]
  },
  {
   "cell_type": "code",
   "execution_count": 65,
   "metadata": {},
   "outputs": [],
   "source": [
    "Base = automap_base()"
   ]
  },
  {
   "cell_type": "markdown",
   "metadata": {},
   "source": [
    "#### Reflect the table and create a session link"
   ]
  },
  {
   "cell_type": "code",
   "execution_count": 66,
   "metadata": {},
   "outputs": [],
   "source": [
    "Base.prepare(engine, reflect=True)\n",
    "session = Session(engine)"
   ]
  },
  {
   "cell_type": "markdown",
   "metadata": {},
   "source": [
    "#### Viewing all of the classes that automap found"
   ]
  },
  {
   "cell_type": "code",
   "execution_count": 68,
   "metadata": {},
   "outputs": [
    {
     "data": {
      "text/plain": [
       "['measurement', 'station']"
      ]
     },
     "execution_count": 68,
     "metadata": {},
     "output_type": "execute_result"
    }
   ],
   "source": [
    "Base.classes.keys()"
   ]
  },
  {
   "cell_type": "markdown",
   "metadata": {},
   "source": [
    "#### Save references to each table"
   ]
  },
  {
   "cell_type": "code",
   "execution_count": 75,
   "metadata": {},
   "outputs": [],
   "source": [
    "Station = Base.classes.station\n",
    "Measurement = Base.classes.measurement"
   ]
  },
  {
   "cell_type": "markdown",
   "metadata": {},
   "source": [
    "## Exploratory Climate Analysis"
   ]
  },
  {
   "cell_type": "markdown",
   "metadata": {},
   "source": [
    "#### Design a query to retrieve the last 12 months of precipitation data and plot the results"
   ]
  },
  {
   "cell_type": "code",
   "execution_count": 81,
   "metadata": {},
   "outputs": [
    {
     "data": {
      "text/plain": [
       "[('2010-01-01', 0.08),\n",
       " ('2010-01-02', 0.0),\n",
       " ('2010-01-03', 0.0),\n",
       " ('2010-01-04', 0.0),\n",
       " ('2010-01-06', None),\n",
       " ('2010-01-07', 0.06),\n",
       " ('2010-01-08', 0.0),\n",
       " ('2010-01-09', 0.0),\n",
       " ('2010-01-10', 0.0),\n",
       " ('2010-01-11', 0.01),\n",
       " ('2010-01-12', 0.0),\n",
       " ('2010-01-14', 0.0),\n",
       " ('2010-01-15', 0.0),\n",
       " ('2010-01-16', 0.0),\n",
       " ('2010-01-17', 0.0),\n",
       " ('2010-01-18', 0.0),\n",
       " ('2010-01-19', 0.0),\n",
       " ('2010-01-20', 0.0),\n",
       " ('2010-01-21', 0.0),\n",
       " ('2010-01-22', 0.0),\n",
       " ('2010-01-23', 0.0),\n",
       " ('2010-01-24', 0.01),\n",
       " ('2010-01-25', 0.0),\n",
       " ('2010-01-26', 0.04),\n",
       " ('2010-01-27', 0.12),\n",
       " ('2010-01-28', 0.0),\n",
       " ('2010-01-30', None),\n",
       " ('2010-01-31', 0.03),\n",
       " ('2010-02-01', 0.01),\n",
       " ('2010-02-03', None),\n",
       " ('2010-02-04', 0.01),\n",
       " ('2010-02-05', 0.0),\n",
       " ('2010-02-06', 0.0),\n",
       " ('2010-02-07', 0.0),\n",
       " ('2010-02-08', 0.0),\n",
       " ('2010-02-09', 0.0),\n",
       " ('2010-02-11', 0.0),\n",
       " ('2010-02-12', 0.02),\n",
       " ('2010-02-13', 0.01),\n",
       " ('2010-02-14', 0.0),\n",
       " ('2010-02-15', 0.0),\n",
       " ('2010-02-16', 0.0),\n",
       " ('2010-02-17', 0.0),\n",
       " ('2010-02-19', None),\n",
       " ('2010-02-20', 0.03),\n",
       " ('2010-02-21', 0.0),\n",
       " ('2010-02-22', 0.0),\n",
       " ('2010-02-23', 0.0),\n",
       " ('2010-02-24', 0.0),\n",
       " ('2010-02-25', 0.0),\n",
       " ('2010-02-26', 0.0),\n",
       " ('2010-02-28', 0.0),\n",
       " ('2010-03-01', 0.01),\n",
       " ('2010-03-02', 0.0),\n",
       " ('2010-03-03', 0.0),\n",
       " ('2010-03-04', 0.12),\n",
       " ('2010-03-05', 0.08),\n",
       " ('2010-03-06', 0.03),\n",
       " ('2010-03-07', 0.0),\n",
       " ('2010-03-08', 0.43),\n",
       " ('2010-03-09', 0.06),\n",
       " ('2010-03-11', None),\n",
       " ('2010-03-12', 0.0),\n",
       " ('2010-03-13', 0.0),\n",
       " ('2010-03-14', 0.0),\n",
       " ('2010-03-15', 0.06),\n",
       " ('2010-03-17', 0.0),\n",
       " ('2010-03-18', 0.0),\n",
       " ('2010-03-21', 0.0),\n",
       " ('2010-03-22', 0.0),\n",
       " ('2010-03-23', 0.0),\n",
       " ('2010-03-24', 0.0),\n",
       " ('2010-03-26', None),\n",
       " ('2010-03-27', 0.0),\n",
       " ('2010-03-28', 0.0),\n",
       " ('2010-03-29', 0.0),\n",
       " ('2010-03-30', 0.0),\n",
       " ('2010-03-31', 0.0),\n",
       " ('2010-04-01', 0.0),\n",
       " ('2010-04-02', 0.01),\n",
       " ('2010-04-03', 0.17),\n",
       " ('2010-04-04', 0.15),\n",
       " ('2010-04-05', 0.27),\n",
       " ('2010-04-06', 0.01),\n",
       " ('2010-04-08', 0.0),\n",
       " ('2010-04-09', 0.01),\n",
       " ('2010-04-10', 0.0),\n",
       " ('2010-04-11', 0.01),\n",
       " ('2010-04-12', 0.01),\n",
       " ('2010-04-13', 0.0),\n",
       " ('2010-04-15', 0.0),\n",
       " ('2010-04-16', 0.01),\n",
       " ('2010-04-17', 0.0),\n",
       " ('2010-04-18', 0.0),\n",
       " ('2010-04-19', 0.0),\n",
       " ('2010-04-20', 0.04),\n",
       " ('2010-04-21', 0.01),\n",
       " ('2010-04-22', 0.0),\n",
       " ('2010-04-23', 0.02),\n",
       " ('2010-04-24', 0.0)]"
      ]
     },
     "execution_count": 81,
     "metadata": {},
     "output_type": "execute_result"
    }
   ],
   "source": [
    "session.query(Measurement.date, Measurement.prcp)."
   ]
  },
  {
   "cell_type": "code",
   "execution_count": null,
   "metadata": {},
   "outputs": [],
   "source": []
  },
  {
   "cell_type": "code",
   "execution_count": null,
   "metadata": {},
   "outputs": [],
   "source": []
  }
 ],
 "metadata": {
  "kernelspec": {
   "display_name": "Python 3",
   "language": "python",
   "name": "python3"
  },
  "language_info": {
   "codemirror_mode": {
    "name": "ipython",
    "version": 3
   },
   "file_extension": ".py",
   "mimetype": "text/x-python",
   "name": "python",
   "nbconvert_exporter": "python",
   "pygments_lexer": "ipython3",
   "version": "3.7.4"
  }
 },
 "nbformat": 4,
 "nbformat_minor": 2
}
